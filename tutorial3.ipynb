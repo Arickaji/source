{
 "cells": [
  {
   "cell_type": "markdown",
   "metadata": {},
   "source": [
    "# tutorial 3"
   ]
  },
  {
   "cell_type": "code",
   "execution_count": 1,
   "metadata": {},
   "outputs": [],
   "source": [
    "import numpy as np"
   ]
  },
  {
   "cell_type": "code",
   "execution_count": 2,
   "metadata": {},
   "outputs": [],
   "source": [
    "#1d array\n",
    "a=np.array([1,2,3])"
   ]
  },
  {
   "cell_type": "code",
   "execution_count": 3,
   "metadata": {},
   "outputs": [
    {
     "data": {
      "text/plain": [
       "1"
      ]
     },
     "execution_count": 3,
     "metadata": {},
     "output_type": "execute_result"
    }
   ],
   "source": [
    "a.ndim"
   ]
  },
  {
   "cell_type": "code",
   "execution_count": 4,
   "metadata": {},
   "outputs": [
    {
     "data": {
      "text/plain": [
       "(3,)"
      ]
     },
     "execution_count": 4,
     "metadata": {},
     "output_type": "execute_result"
    }
   ],
   "source": [
    "a.shape"
   ]
  },
  {
   "cell_type": "code",
   "execution_count": 5,
   "metadata": {},
   "outputs": [],
   "source": [
    "#2d array\n",
    "#every element of a 2d array it self a 1d array\n",
    "\n",
    "b=np.array([a,a ,a ])"
   ]
  },
  {
   "cell_type": "code",
   "execution_count": 6,
   "metadata": {},
   "outputs": [
    {
     "data": {
      "text/plain": [
       "array([[1, 2, 3],\n",
       "       [1, 2, 3],\n",
       "       [1, 2, 3]])"
      ]
     },
     "execution_count": 6,
     "metadata": {},
     "output_type": "execute_result"
    }
   ],
   "source": [
    "b"
   ]
  },
  {
   "cell_type": "code",
   "execution_count": 7,
   "metadata": {},
   "outputs": [
    {
     "data": {
      "text/plain": [
       "2"
      ]
     },
     "execution_count": 7,
     "metadata": {},
     "output_type": "execute_result"
    }
   ],
   "source": [
    "b.ndim"
   ]
  },
  {
   "cell_type": "code",
   "execution_count": 8,
   "metadata": {},
   "outputs": [
    {
     "data": {
      "text/plain": [
       "(3, 3)"
      ]
     },
     "execution_count": 8,
     "metadata": {},
     "output_type": "execute_result"
    }
   ],
   "source": [
    "b.shape"
   ]
  },
  {
   "cell_type": "code",
   "execution_count": 9,
   "metadata": {},
   "outputs": [],
   "source": [
    "#3d array\n",
    "#every element of a 3d array is itself a 2d array\n",
    "\n",
    "c=np.array([b,b,b])"
   ]
  },
  {
   "cell_type": "code",
   "execution_count": 10,
   "metadata": {},
   "outputs": [
    {
     "data": {
      "text/plain": [
       "array([[[1, 2, 3],\n",
       "        [1, 2, 3],\n",
       "        [1, 2, 3]],\n",
       "\n",
       "       [[1, 2, 3],\n",
       "        [1, 2, 3],\n",
       "        [1, 2, 3]],\n",
       "\n",
       "       [[1, 2, 3],\n",
       "        [1, 2, 3],\n",
       "        [1, 2, 3]]])"
      ]
     },
     "execution_count": 10,
     "metadata": {},
     "output_type": "execute_result"
    }
   ],
   "source": [
    "c"
   ]
  },
  {
   "cell_type": "code",
   "execution_count": 11,
   "metadata": {},
   "outputs": [
    {
     "data": {
      "text/plain": [
       "(3, 3, 3)"
      ]
     },
     "execution_count": 11,
     "metadata": {},
     "output_type": "execute_result"
    }
   ],
   "source": [
    "c.shape"
   ]
  },
  {
   "cell_type": "code",
   "execution_count": 12,
   "metadata": {},
   "outputs": [],
   "source": [
    "#4d array\n",
    "#every element will be a 3d array itself\n",
    "\n",
    "d=np.array([c,c,c,c])"
   ]
  },
  {
   "cell_type": "code",
   "execution_count": 13,
   "metadata": {},
   "outputs": [
    {
     "data": {
      "text/plain": [
       "array([[[[1, 2, 3],\n",
       "         [1, 2, 3],\n",
       "         [1, 2, 3]],\n",
       "\n",
       "        [[1, 2, 3],\n",
       "         [1, 2, 3],\n",
       "         [1, 2, 3]],\n",
       "\n",
       "        [[1, 2, 3],\n",
       "         [1, 2, 3],\n",
       "         [1, 2, 3]]],\n",
       "\n",
       "\n",
       "       [[[1, 2, 3],\n",
       "         [1, 2, 3],\n",
       "         [1, 2, 3]],\n",
       "\n",
       "        [[1, 2, 3],\n",
       "         [1, 2, 3],\n",
       "         [1, 2, 3]],\n",
       "\n",
       "        [[1, 2, 3],\n",
       "         [1, 2, 3],\n",
       "         [1, 2, 3]]],\n",
       "\n",
       "\n",
       "       [[[1, 2, 3],\n",
       "         [1, 2, 3],\n",
       "         [1, 2, 3]],\n",
       "\n",
       "        [[1, 2, 3],\n",
       "         [1, 2, 3],\n",
       "         [1, 2, 3]],\n",
       "\n",
       "        [[1, 2, 3],\n",
       "         [1, 2, 3],\n",
       "         [1, 2, 3]]],\n",
       "\n",
       "\n",
       "       [[[1, 2, 3],\n",
       "         [1, 2, 3],\n",
       "         [1, 2, 3]],\n",
       "\n",
       "        [[1, 2, 3],\n",
       "         [1, 2, 3],\n",
       "         [1, 2, 3]],\n",
       "\n",
       "        [[1, 2, 3],\n",
       "         [1, 2, 3],\n",
       "         [1, 2, 3]]]])"
      ]
     },
     "execution_count": 13,
     "metadata": {},
     "output_type": "execute_result"
    }
   ],
   "source": [
    "d"
   ]
  },
  {
   "cell_type": "code",
   "execution_count": 14,
   "metadata": {},
   "outputs": [
    {
     "data": {
      "text/plain": [
       "4"
      ]
     },
     "execution_count": 14,
     "metadata": {},
     "output_type": "execute_result"
    }
   ],
   "source": [
    "d.ndim"
   ]
  },
  {
   "cell_type": "code",
   "execution_count": 15,
   "metadata": {},
   "outputs": [
    {
     "data": {
      "text/plain": [
       "(4, 3, 3, 3)"
      ]
     },
     "execution_count": 15,
     "metadata": {},
     "output_type": "execute_result"
    }
   ],
   "source": [
    "#shape\n",
    "d.shape"
   ]
  },
  {
   "cell_type": "code",
   "execution_count": 16,
   "metadata": {},
   "outputs": [],
   "source": [
    "#5d array\n",
    "#every element will be 4d array itself\n",
    "\n",
    "e=np.array([d,d])"
   ]
  },
  {
   "cell_type": "code",
   "execution_count": 17,
   "metadata": {},
   "outputs": [
    {
     "data": {
      "text/plain": [
       "array([[[[[1, 2, 3],\n",
       "          [1, 2, 3],\n",
       "          [1, 2, 3]],\n",
       "\n",
       "         [[1, 2, 3],\n",
       "          [1, 2, 3],\n",
       "          [1, 2, 3]],\n",
       "\n",
       "         [[1, 2, 3],\n",
       "          [1, 2, 3],\n",
       "          [1, 2, 3]]],\n",
       "\n",
       "\n",
       "        [[[1, 2, 3],\n",
       "          [1, 2, 3],\n",
       "          [1, 2, 3]],\n",
       "\n",
       "         [[1, 2, 3],\n",
       "          [1, 2, 3],\n",
       "          [1, 2, 3]],\n",
       "\n",
       "         [[1, 2, 3],\n",
       "          [1, 2, 3],\n",
       "          [1, 2, 3]]],\n",
       "\n",
       "\n",
       "        [[[1, 2, 3],\n",
       "          [1, 2, 3],\n",
       "          [1, 2, 3]],\n",
       "\n",
       "         [[1, 2, 3],\n",
       "          [1, 2, 3],\n",
       "          [1, 2, 3]],\n",
       "\n",
       "         [[1, 2, 3],\n",
       "          [1, 2, 3],\n",
       "          [1, 2, 3]]],\n",
       "\n",
       "\n",
       "        [[[1, 2, 3],\n",
       "          [1, 2, 3],\n",
       "          [1, 2, 3]],\n",
       "\n",
       "         [[1, 2, 3],\n",
       "          [1, 2, 3],\n",
       "          [1, 2, 3]],\n",
       "\n",
       "         [[1, 2, 3],\n",
       "          [1, 2, 3],\n",
       "          [1, 2, 3]]]],\n",
       "\n",
       "\n",
       "\n",
       "       [[[[1, 2, 3],\n",
       "          [1, 2, 3],\n",
       "          [1, 2, 3]],\n",
       "\n",
       "         [[1, 2, 3],\n",
       "          [1, 2, 3],\n",
       "          [1, 2, 3]],\n",
       "\n",
       "         [[1, 2, 3],\n",
       "          [1, 2, 3],\n",
       "          [1, 2, 3]]],\n",
       "\n",
       "\n",
       "        [[[1, 2, 3],\n",
       "          [1, 2, 3],\n",
       "          [1, 2, 3]],\n",
       "\n",
       "         [[1, 2, 3],\n",
       "          [1, 2, 3],\n",
       "          [1, 2, 3]],\n",
       "\n",
       "         [[1, 2, 3],\n",
       "          [1, 2, 3],\n",
       "          [1, 2, 3]]],\n",
       "\n",
       "\n",
       "        [[[1, 2, 3],\n",
       "          [1, 2, 3],\n",
       "          [1, 2, 3]],\n",
       "\n",
       "         [[1, 2, 3],\n",
       "          [1, 2, 3],\n",
       "          [1, 2, 3]],\n",
       "\n",
       "         [[1, 2, 3],\n",
       "          [1, 2, 3],\n",
       "          [1, 2, 3]]],\n",
       "\n",
       "\n",
       "        [[[1, 2, 3],\n",
       "          [1, 2, 3],\n",
       "          [1, 2, 3]],\n",
       "\n",
       "         [[1, 2, 3],\n",
       "          [1, 2, 3],\n",
       "          [1, 2, 3]],\n",
       "\n",
       "         [[1, 2, 3],\n",
       "          [1, 2, 3],\n",
       "          [1, 2, 3]]]]])"
      ]
     },
     "execution_count": 17,
     "metadata": {},
     "output_type": "execute_result"
    }
   ],
   "source": [
    "e"
   ]
  },
  {
   "cell_type": "code",
   "execution_count": 18,
   "metadata": {},
   "outputs": [
    {
     "data": {
      "text/plain": [
       "5"
      ]
     },
     "execution_count": 18,
     "metadata": {},
     "output_type": "execute_result"
    }
   ],
   "source": [
    "e.ndim "
   ]
  },
  {
   "cell_type": "code",
   "execution_count": 19,
   "metadata": {},
   "outputs": [
    {
     "data": {
      "text/plain": [
       "(2, 4, 3, 3, 3)"
      ]
     },
     "execution_count": 19,
     "metadata": {},
     "output_type": "execute_result"
    }
   ],
   "source": [
    "e.shape"
   ]
  },
  {
   "cell_type": "code",
   "execution_count": null,
   "metadata": {},
   "outputs": [],
   "source": []
  }
 ],
 "metadata": {
  "kernelspec": {
   "display_name": "Python 3",
   "language": "python",
   "name": "python3"
  },
  "language_info": {
   "codemirror_mode": {
    "name": "ipython",
    "version": 3
   },
   "file_extension": ".py",
   "mimetype": "text/x-python",
   "name": "python",
   "nbconvert_exporter": "python",
   "pygments_lexer": "ipython3",
   "version": "3.7.1"
  }
 },
 "nbformat": 4,
 "nbformat_minor": 2
}
